{
 "cells": [
  {
   "cell_type": "markdown",
   "metadata": {
    "deletable": false,
    "editable": false,
    "run_control": {
     "frozen": true
    }
   },
   "source": [
    "# <center> Etude de communautés dans un réseau social</center>\n",
    "<center> SAE 1.01 / 2024 - 25 </center>\n",
    "\n"
   ]
  },
  {
   "cell_type": "markdown",
   "metadata": {
    "deletable": false,
    "editable": false,
    "run_control": {
     "frozen": true
    }
   },
   "source": [
    "Cette SAE est à faire en **binôme**.\n",
    "\n",
    "**Calendrier**\n",
    "- Un contrôle de 2h en lien avec le contenu de cette SAE aura lieu le mercredi **30 octobre** 2024.\n",
    "- Le projet est à rendre le mardi **29 octobre** 2024. Les modalités de rendu vous seront précisées par votre enseignant.\n",
    "\n",
    "**Evaluation**\n",
    "- Le projet comptera pour 40% de la note de SAE 1.01. <BR>\n",
    "    Il sera particulièrement tenu compte de la qualité du code, des **commentaires** et **docstrings**, des fonctions de **tests unitaires** pour les fonctions renvoyant des résultats. <BR><BR>\n",
    "    \n",
    "- Le contrôle compte pour 60% de la note finale."
   ]
  },
  {
   "cell_type": "markdown",
   "metadata": {
    "deletable": false,
    "editable": false,
    "run_control": {
     "frozen": true
    }
   },
   "source": [
    "## <center> Sujet </center>\n",
    "\n",
    "Une *communauté* est un ensemble de personnes développant des interactions dans un réseau social.\n",
    "\n",
    "Dans ce projet, on étudie des communautés modélisées sous différentes formes. Pour cela, on développe des fonctions permettant d'extraire des informations relatives à ces réseaux. "
   ]
  },
  {
   "cell_type": "markdown",
   "metadata": {
    "deletable": false,
    "editable": false,
    "run_control": {
     "frozen": true
    }
   },
   "source": [
    "On modélise, dans un premier temps, les interactions entre personnes dans un tableau `amis` de chaînes de caractères contenant les prénoms des membres du réseau et tel que `amis[2*i]` a des interactions avec `amis[2*i+1]`.\n",
    "\n",
    "On suppose que chaque interaction n'est décrite qu'une seule fois dans le tableau, et qu'une personne n'a pas d'interaction avec elle-même.\n",
    "\n",
    "**Exemple** : "
   ]
  },
  {
   "cell_type": "code",
   "execution_count": null,
   "metadata": {
    "deletable": false,
    "editable": false
   },
   "outputs": [],
   "source": [
    "amis = [\"Alice\", \"Bob\", \"Alice\", \"Charlie\", \"Bob\", \"Denis\"]"
   ]
  },
  {
   "cell_type": "markdown",
   "metadata": {
    "deletable": false,
    "editable": false,
    "run_control": {
     "frozen": true
    }
   },
   "source": [
    "Ici, \n",
    "- Alice a des interactions Bob et Charlie, \n",
    "- Bob a des intractions avec Alice et Denis,\n",
    "- Charlie a des interactions avec Alice,\n",
    "- Denis a des interactions avec Bob."
   ]
  },
  {
   "cell_type": "markdown",
   "metadata": {
    "deletable": false,
    "editable": false,
    "run_control": {
     "frozen": true
    }
   },
   "source": [
    "#### Question préliminaire : Modélisation d'un réseau par un tableau\n",
    "\n",
    "Muriel, Yasmine et Joël sont amis. Yasmine est amie avec Thomas. \n",
    "Joël, Nassim, Andrea et Ali sont amis. Thomas est ami de Daria et Carole. Thierry, Axel et Léo sont amis. Léo est ami de Valentin qui est ami d'Andrea.\n",
    "\n",
    "- Construire un tableau `p_amis` qui modélise ce réseau d'amitié en selon le principe qui vient d'être décrit."
   ]
  },
  {
   "cell_type": "code",
   "execution_count": null,
   "metadata": {
    "scrolled": true
   },
   "outputs": [],
   "source": [
    "p_amis=[\"joel\",\"yasmine\",\"thomas\",\"daria\",\"thomas\",\"carole\",\"daria\",\"carole\",\"thomas\",\"yasmine\",\"muriel\",\"joel\",\"muriel\",\"yasmine\",\"joel\",\"nassim\",\"ali\",\"joel\",\"andrea\",\"nassim\",\"joel\",\"ali\",\"nassim\",\"andrea\",\"ali\",\"andrea\",\"valentin\",\"leo\",\"axel\",\"leo\",\"thierry\",\"axel\",\"thierry\",\"leo\",\"valentin\",\"andrea\",\"joel\"]\n"
   ]
  },
  {
   "cell_type": "markdown",
   "metadata": {
    "deletable": false,
    "editable": false,
    "run_control": {
     "frozen": true
    }
   },
   "source": [
    "#### Question 1 : Nombre d'amis d'une personne\n",
    "\n",
    "- Étant donné un tableau `amis`, écrire une fonction `nb_amis(amis, prenom)` qui retourne le nombre d'amis de `prenom` à partir des données du tableau `amis`. "
   ]
  },
  {
   "cell_type": "code",
   "execution_count": null,
   "metadata": {},
   "outputs": [],
   "source": [
    "def nb_amis(prenom,amis):\n",
    "    nb=0\n",
    "    i=0\n",
    "    while i!=len(amis)-1:\n",
    "        if amis[i]==prenom:\n",
    "            nb+=1\n",
    "        i+=1\n",
    "    print(nb)\n",
    "    \n",
    "nb_amis(\"thomas\",p_amis)\n",
    "\n",
    "\n"
   ]
  },
  {
   "cell_type": "markdown",
   "metadata": {
    "deletable": false,
    "editable": false,
    "run_control": {
     "frozen": true
    }
   },
   "source": [
    "#### Question 2 : Nombre de membres d'un réseau social \n",
    "\n",
    "- Ecrire une fonction `taille_reseau(amis)` qui à partir d'un tableau `amis`retourne le nombre de personnes distinctes participant à ce réseau social."
   ]
  },
  {
   "cell_type": "code",
   "execution_count": null,
   "metadata": {},
   "outputs": [],
   "source": [
    "def taille_reseau(amis) :\n",
    "    d = []\n",
    "    i = 0\n",
    "    while i < len(amis) :\n",
    "        if amis[i] not in d :\n",
    "            d.append(amis[i])\n",
    "        i = i + 1\n",
    "       \n",
    "       \n",
    "    print(\"voici la liste des personne discint\",d)\n",
    "    return len(d)\n",
    "x = taille_reseau(amis)\n",
    "print(\"le nombre de personne disctinct est:\",x)\n",
    "\n",
    "\n"
   ]
  },
  {
   "cell_type": "markdown",
   "metadata": {
    "deletable": false,
    "editable": false,
    "run_control": {
     "frozen": true
    }
   },
   "source": [
    "#### Question 3 :  Lecture des données d'un réseau à partir d'un fichier\n",
    "On suppose que les données sur un réseau social sont stockées dans un fichier CSV de la manière suivante :\n",
    "```\n",
    "prenom1;prenom2\n",
    "prenom3;prenom4\n",
    "prenom5;prenom6\n",
    "...\n",
    "```\n",
    "Autrement dit, chaque ligne du fichier contient une paire de prénoms séparés par un `';'` correspondant à deux personnes ayant des interactions. \n",
    "\n",
    "**NB** : Quatre fichiers CSV de ce type sont fournis dans le répertoire `files/`, il s'agit des fichiers`Communaute1.csv`, `Communaute2.csv`,`Communaute3.csv` et `Communaute4.csv`. \n",
    "Il est recommandé d'en fabriquer d'autres. \n",
    "\n",
    "- Ecrire une fonction `lecture_reseau(path)` prenant en paramètre un chemin vers un tel fichier CSV et retournant un tableau modélisant les interactions entre les personnes du fichier."
   ]
  },
  {
   "cell_type": "code",
   "execution_count": null,
   "metadata": {},
   "outputs": [],
   "source": [
    "def lecture_reseau(path):\n",
    "    f=open(path,\"r\",encoding=\"utf-8\")\n",
    "    tab=[]\n",
    "    line=f.readline()\n",
    "    while line!= \"\":\n",
    "        tab_li=line.split(\";\")\n",
    "        tab.append((tab_li[0]),tab_li[1].strip())\n",
    "        line=f.readline()\n",
    "        \n",
    "    f.close()\n",
    "    return tab\n",
    "lecture_reseau(\"/iutv/Mes_Montages/12414322/R101_1/SAE_2024/files/Communaute1.csv\")       \n"
   ]
  },
  {
   "cell_type": "markdown",
   "metadata": {
    "deletable": false,
    "editable": false,
    "run_control": {
     "frozen": true
    }
   },
   "source": [
    "#### Question  4 :  Données d'un réseau dupliquées dans un fichier\n",
    "On suppose toujours que les données sur un réseau social sont stockées dans un fichier CSV mais certaines lignes du fichier contiennent les mêmes informations.  \n",
    "\n",
    "**NB** : Quatre fichiers CSV de ce type sont fournis dans le répertoire `filesbis/`, il s'agit des fichiers`Communaute1bis.csv`, `Communaute2bis.csv`,`Communaute3bis.csv` et `Communaute4bis.csv`. \n",
    "Il est recommandé d'en fabriquer d'autres. \n",
    "\n",
    "- Ecrire une fonction `lecture_reseau_bis(path)` prenant en paramètre un chemin vers un tel fichier CSV et retournant un tableau modélisant les interactions entre les personnes du fichier en éliminant les répétitions."
   ]
  },
  {
   "cell_type": "code",
   "execution_count": null,
   "metadata": {},
   "outputs": [],
   "source": [
    "def lecture_reseau_bis(path):\n",
    "    f = open(path, \"r\", encoding=\"utf-8\")\n",
    "    tab = []\n",
    "    line = f.readline()\n",
    "    while line != \"\":\n",
    "        tab_li = line.strip().split(\";\")\n",
    "        x = (tab_li[0], tab_li[1])\n",
    "        if (x not in tab) and ((tab_li[1], tab_li[0]) not in tab):\n",
    "            tab.append(x)\n",
    "        line = f.readline()\n",
    "\n",
    "        \n",
    "    f.close()\n",
    "    print(len(tab))\n",
    "    return tab\n",
    "\n",
    "lecture_reseau_bis(\"/iutv/Mes_Montages/12414322/R101_1/SAE_2024/filesbis/Communaute1bis.csv\")\n"
   ]
  },
  {
   "cell_type": "markdown",
   "metadata": {
    "deletable": false,
    "editable": false,
    "run_control": {
     "frozen": true
    }
   },
   "source": [
    "#### Question 5 : Modélisation d'un réseau par un dictionnaire\n",
    "On préfère pour la suite, utiliser une modélisation du réseau social par un dictionnaire dont les clés sont les prénoms des personnes du réseau et la valeur associé à une clé est le tableau des amis de la personne indiquée par la clé.\n",
    "\n",
    "- A partir d'un tableau `amis` modélisant les interactions entre personnes d'un réseau, écrire une fonction `dico_reseau(amis)` qui retourne un dictionnaire dont les clés sont les prénoms des membres du réseau et les valeurs le tableau de leurs amis."
   ]
  },
  {
   "cell_type": "code",
   "execution_count": null,
   "metadata": {},
   "outputs": [],
   "source": [
    "def taille_reseau_tab(amis) :\n",
    "    d = []\n",
    "    i = 0\n",
    "    while i < len(amis) :\n",
    "        if amis[i] not in d :\n",
    "            d.append(amis[i])\n",
    "        i = i + 1\n",
    "       \n",
    "       \n",
    "    return d\n",
    "def dico_amis(amis):\n",
    "    tab=taille_reseau_tab(amis)\n",
    "    tab2=amis\n",
    "    i=0\n",
    "    dico={}\n",
    "    \n",
    "    while i< len(tab):\n",
    "        tab3=[]\n",
    "        y=0\n",
    "        while y<len(tab2)-1:\n",
    "            if tab[i]==tab2[y]:\n",
    "                tab3.append(tab2[y+1])\n",
    "            \n",
    "            y+=1\n",
    "            \n",
    "        \n",
    "        dico[tab[i]]=tab3\n",
    "        i+=1\n",
    "    return dico\n",
    "dico_amis(p_amis)\n",
    "        \n",
    "        \n",
    " \n",
    "\n"
   ]
  },
  {
   "cell_type": "markdown",
   "metadata": {},
   "source": [
    "#### Question 6 : Nombre d'amis des personnes les plus populaires\n",
    "\n",
    "- A partir d'un dictionnaire `dico_reseau` modélisant les interactions dans un réseau d'amis, écrire une fonction `nb_amis_plus_pop (dico_reseau)` qui retourne le nombre d'amis des personnes les plus populaires du réseau."
   ]
  },
  {
   "cell_type": "code",
   "execution_count": 79,
   "metadata": {},
   "outputs": [
    {
     "name": "stdout",
     "output_type": "stream",
     "text": [
      "['yasmine', 'muriel', 'nassim', 'andrea', 'ali']\n",
      "['thomas', 'muriel', 'joel']\n",
      "['daria', 'carole', 'yasmine']\n",
      "['thomas', 'carole']\n",
      "['daria', 'thomas']\n",
      "['joel', 'yasmine']\n",
      "['ali', 'joel', 'andrea']\n",
      "['joel', 'nassim', 'andrea']\n",
      "['nassim', 'ali', 'valentin', 'joel']\n",
      "['leo', 'andrea']\n",
      "['axel', 'thierry', 'valentin']\n",
      "['leo', 'thierry']\n",
      "['axel', 'leo']\n",
      "5\n"
     ]
    }
   ],
   "source": [
    "\n",
    "def nb_amis_plus_pop(dico_reseau) :\n",
    "    prenom = list(dico_reseau)\n",
    "    i = 0\n",
    "    Populaire = 0\n",
    "    prenom = list(dico_reseau)\n",
    "    \n",
    "    while i < len(prenom) :\n",
    "        compte  = len(dico_reseau[prenom[i]])\n",
    "        if compte > Populaire :\n",
    "            Populaire = compte\n",
    "        i = i + 1\n",
    "\n",
    "    return Populaire\n",
    "\n",
    "\n",
    "psg = nb_amis_plus_pop(dico_amis(p_amis))\n",
    "print(psg)\n",
    " \n",
    "\n",
    "\n"
   ]
  },
  {
   "cell_type": "markdown",
   "metadata": {
    "deletable": false,
    "editable": false,
    "run_control": {
     "frozen": true
    }
   },
   "source": [
    "#### Question 7 : Personnes les plus populaires\n",
    "\n",
    "- A partir d'un dictionnaire `dico_reseau` modélisant les interactions dans un réseau d'amis, écrire une fonction `les_plus_pop (dico_reseau)` qui retourne un tableau contenant les prénoms de toutes les personnes les plus populaires du réseau."
   ]
  },
  {
   "cell_type": "code",
   "execution_count": 98,
   "metadata": {},
   "outputs": [
    {
     "data": {
      "text/plain": [
       "['yasmine', 'muriel', 'nassim', 'andrea', 'ali']"
      ]
     },
     "execution_count": 98,
     "metadata": {},
     "output_type": "execute_result"
    }
   ],
   "source": [
    "def amis_plus_pop(dico_reseau) :\n",
    "    prenom = list(dico_reseau)\n",
    "    i = 0\n",
    "    Populaire = 0\n",
    "    prenom = list(dico_reseau)\n",
    "    nb=0\n",
    "    while i < len(prenom) :\n",
    "        compte  = len(dico_reseau[prenom[i]])\n",
    "        if compte > Populaire :\n",
    "            Populaire = compte\n",
    "            nb=i\n",
    "        i = i + 1\n",
    "\n",
    "    return dico_reseau[prenom[nb]]\n",
    "\n",
    "amis_plus_pop(dico_amis(p_amis))"
   ]
  },
  {
   "cell_type": "code",
   "execution_count": null,
   "metadata": {},
   "outputs": [],
   "source": []
  }
 ],
 "metadata": {
  "kernelspec": {
   "display_name": "Python 3 (ipykernel)",
   "language": "python",
   "name": "python3"
  },
  "language_info": {
   "codemirror_mode": {
    "name": "ipython",
    "version": 3
   },
   "file_extension": ".py",
   "mimetype": "text/x-python",
   "name": "python",
   "nbconvert_exporter": "python",
   "pygments_lexer": "ipython3",
   "version": "3.9.7"
  },
  "latex_envs": {
   "LaTeX_envs_menu_present": true,
   "autoclose": false,
   "autocomplete": true,
   "bibliofile": "biblio.bib",
   "cite_by": "apalike",
   "current_citInitial": 1,
   "eqLabelWithNumbers": true,
   "eqNumInitial": 1,
   "hotkeys": {
    "equation": "Ctrl-E",
    "itemize": "Ctrl-I"
   },
   "labels_anchors": false,
   "latex_user_defs": false,
   "report_style_numbering": false,
   "user_envs_cfg": false
  }
 },
 "nbformat": 4,
 "nbformat_minor": 2
}
