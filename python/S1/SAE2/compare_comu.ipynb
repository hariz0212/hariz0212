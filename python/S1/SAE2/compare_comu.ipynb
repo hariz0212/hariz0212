{
 "cells": [
  {
   "cell_type": "code",
   "execution_count": 238,
   "id": "2512b901",
   "metadata": {},
   "outputs": [],
   "source": [
    "#Exercice 2\n"
   ]
  },
  {
   "cell_type": "code",
   "execution_count": 239,
   "id": "2a444199",
   "metadata": {},
   "outputs": [
    {
     "ename": "SyntaxError",
     "evalue": "incomplete input (3550201346.py, line 1)",
     "output_type": "error",
     "traceback": [
      "\u001b[0;36m  Cell \u001b[0;32mIn[239], line 1\u001b[0;36m\u001b[0m\n\u001b[0;31m    \"\"\"\"\u001b[0m\n\u001b[0m    ^\u001b[0m\n\u001b[0;31mSyntaxError\u001b[0m\u001b[0;31m:\u001b[0m incomplete input\n"
     ]
    }
   ],
   "source": [
    "\"\"\"\"\n",
    "La principale différence entre le code cree_reseau et dico_reseau est la compléxité du code d'un coté avec le \n",
    "code dico_reseau qui contient une bloucle while dans une boucle \"while\" c'est à dire que la complexité est \n",
    "quadratique et de l'autre coté avec le code cree_reseau nous avons une seul boucle \"while\" ainsi la complexité \n",
    "est lineaire donc le temps pris par les deux code sont différence plus long pour celle avec la complexité \n",
    "quadratique."
   ]
  },
  {
   "cell_type": "code",
   "execution_count": null,
   "id": "e8c21614",
   "metadata": {},
   "outputs": [],
   "source": [
    "#Exercice 11"
   ]
  },
  {
   "cell_type": "code",
   "execution_count": 1,
   "id": "11ca40d7",
   "metadata": {},
   "outputs": [
    {
     "ename": "NameError",
     "evalue": "name 'comu_dans_amis' is not defined",
     "output_type": "error",
     "traceback": [
      "\u001b[0;31m---------------------------------------------------------------------------\u001b[0m",
      "\u001b[0;31mNameError\u001b[0m                                 Traceback (most recent call last)",
      "Cell \u001b[0;32mIn[1], line 5\u001b[0m\n\u001b[1;32m      3\u001b[0m personne\u001b[38;5;241m=\u001b[39m\u001b[38;5;124m'\u001b[39m\u001b[38;5;124mBob\u001b[39m\u001b[38;5;124m'\u001b[39m\n\u001b[1;32m      4\u001b[0m debut\u001b[38;5;241m=\u001b[39mtime\u001b[38;5;241m.\u001b[39mtime()\n\u001b[0;32m----> 5\u001b[0m \u001b[43mcomu_dans_amis\u001b[49m(personne,amis)\n\u001b[1;32m      6\u001b[0m fin\u001b[38;5;241m=\u001b[39mtime\u001b[38;5;241m.\u001b[39mtime()\n\u001b[1;32m      7\u001b[0m \u001b[38;5;28mprint\u001b[39m(\u001b[38;5;124m\"\u001b[39m\u001b[38;5;124mcomu_dans_amis a pris\u001b[39m\u001b[38;5;124m\"\u001b[39m,fin\u001b[38;5;241m-\u001b[39mdebut,\u001b[38;5;124m\"\u001b[39m\u001b[38;5;124mS de temps\u001b[39m\u001b[38;5;124m\"\u001b[39m)\n",
      "\u001b[0;31mNameError\u001b[0m: name 'comu_dans_amis' is not defined"
     ]
    }
   ],
   "source": [
    "def test__temps_comu_1000(amis):\n",
    "    import time\n",
    "    i = 0\n",
    "    repetitions = 1000\n",
    "    personne = 'Bob'  \n",
    "    debut = time.time()\n",
    "    while i < repetitions:\n",
    "        comu_dans_amis(personne, amis)\n",
    "        i += 1\n",
    "    fin = time.time()\n",
    "    duree_moyenne = (fin - debut) / repetitions\n",
    "    print(\"comu_dans_amis a pris\",duree_moyenne,\"S de temps en moyenne\")\n",
    "    j=0\n",
    "    debut=time.time()\n",
    "    while j<repetitions:\n",
    "        dico=cree_reseau(amis)[personne]\n",
    "        comu_dans_reseau(dico,amis)\n",
    "        j+=1\n",
    "    fin=time.time()\n",
    "    duree_moyenne= (fin - debut) / repetitions\n",
    "    print(\"comu_dans_reseau a pris\",duree_moyenne,\"S de temps en moyenne\")\n",
    "test__temps_comu_100(amis)\n",
    "\n"
   ]
  },
  {
   "cell_type": "markdown",
   "id": "31f24977",
   "metadata": {},
   "source": [
    "Les deux fonctions, comu_dans_reseau et comu_dans_amis, diffèrent principalement par leur structure et les étapes qu'elles exécutent, ce qui impacte leur complexité. La fonction comu_dans_reseau a une complexité dominée par le tri quadratique, car elle utilise un tri par insertion pour organiser les éléments. En revanche, comu_dans_amis ajoute une étape supplémentaire en appelant cree_reseau, qui construit un dictionnaire de relations en complexité linéaire, avant d’effectuer les mêmes opérations dominées par un tri quadratique. Théoriquement, comu_dans_amis est légèrement plus coûteuse en raison de l'étape linéaire de construction du réseau, mais les deux fonctions restent dominées par les étapes quadratiques, ce qui les rend inefficaces pour de grandes entrées.On peut notament le remarqué via un le test pratique avec comu_dans_reseau qui prend environ le même temps que comu_dans_amis."
   ]
  }
 ],
 "metadata": {
  "kernelspec": {
   "display_name": "Python 3 (ipykernel)",
   "language": "python",
   "name": "python3"
  },
  "language_info": {
   "codemirror_mode": {
    "name": "ipython",
    "version": 3
   },
   "file_extension": ".py",
   "mimetype": "text/x-python",
   "name": "python",
   "nbconvert_exporter": "python",
   "pygments_lexer": "ipython3",
   "version": "3.12.3"
  }
 },
 "nbformat": 4,
 "nbformat_minor": 5
}
